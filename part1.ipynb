import cv2
import numpy as np
import matplotlib.pyplot as plt

def draw_opencv_logo():
    # Create white background
    img = np.ones((400, 400, 3), dtype=np.uint8) * 255

    # Circle specs
    axes = (60, 60)
    thickness = 35

    # Red arc 
    cv2.ellipse(img, (200, 110), axes, 220, 0, 230, (0, 0, 255), thickness)

# Green arc 
    cv2.ellipse(img, (120, 250), axes, 50, 0, 230, (0, 255, 0), thickness)

# Blue arc 
    cv2.ellipse(img, (280, 250), axes, -30, 0, 230, (255, 0, 0), thickness)


    # Add "OpenCV" text
    font = cv2.FONT_HERSHEY_SIMPLEX
    text = "OpenCV"
    text_scale = 1.2
    text_thickness = 3
    text_size = cv2.getTextSize(text, font, text_scale, text_thickness)[0]
    text_x = (img.shape[1] - text_size[0]) // 2
    text_y = 360
    cv2.putText(img, text, (text_x, text_y), font, text_scale, (0, 0, 0), text_thickness)

    # Save and show
    cv2.imwrite("opencv_logo.jpg", img)
    plt.imshow(cv2.cvtColor(img, cv2.COLOR_BGR2RGB))
    plt.axis('off')
    plt.show()

# Run it
draw_opencv_logo()
